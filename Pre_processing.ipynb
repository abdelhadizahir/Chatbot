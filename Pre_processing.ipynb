{
 "cells": [
  {
   "cell_type": "markdown",
   "metadata": {},
   "source": [
    "# IMPORTATION"
   ]
  },
  {
   "cell_type": "code",
   "execution_count": 214,
   "metadata": {},
   "outputs": [],
   "source": [
    "import pandas as pd\n",
    "import numpy as np\n",
    "from numpy import random\n",
    "import gensim\n",
    "import nltk\n",
    "import matplotlib.pyplot as plt\n",
    "from nltk.corpus import stopwords\n",
    "import re\n",
    "import matplotlib\n",
    "from matplotlib import pyplot as plt\n",
    "import codecs\n",
    "import PyPDF2\n",
    "%matplotlib inline\n",
    "import spacy\n",
    "import fr_core_news_sm\n",
    "nlp = spacy.load(\"fr_core_news_sm\")"
   ]
  },
  {
   "cell_type": "code",
   "execution_count": 215,
   "metadata": {
    "scrolled": false
   },
   "outputs": [
    {
     "name": "stdout",
     "output_type": "stream",
     "text": [
      "118\n",
      " \n",
      " \n",
      "11\n",
      "/\n",
      "118\n",
      " \n",
      " \n",
      "Si un marché comporte plusieurs catégories de prestations, le cahier des clauses administratives \n",
      "générales applicable est celui correspondant à la catégorie prépondérante de ces prestations.\n",
      " \n",
      " \n",
      "En cas d'absence d'un cahier des clauses administrative\n",
      "s générales propre aux prestations objet \n",
      "du marché, celui\n",
      "-\n",
      "ci est régi par l'un des cahiers des clauses administratives générales en vigueur \n",
      "le plus adapté en procédant aux ajustements nécessaires.\n",
      " \n",
      " \n",
      " \n",
      " \n",
      " \n",
      " \n",
      " \n",
      " \n",
      "2\n",
      "-\n",
      " \n",
      "Les cahiers des prescriptions communes fixent essent\n",
      "iellement les dispositions techniques \n",
      "applicables à tous les marchés portant sur une même nature de travaux, de fournitures ou de \n",
      "services ou à tous les marchés passés par un même département ministériel ou par un même \n",
      "service spécialisé ou par un établiss\n",
      "ement public.\n",
      " \n",
      " \n",
      "Les cahiers des prescriptions communes peuvent cependant :\n",
      " \n",
      " \n",
      "-\n",
      " \n",
      "contenir, dans le respect des prescriptions du cahier des clauses \n",
      "administratives générales, toutes prescriptions communes, autres que techniques, à tous \n",
      "les marchés de la catégorie\n",
      " \n",
      "à laquelle ils sont applicables ou au département ministériel \n",
      "ou service qu'ils concernent ;\n",
      " \n",
      " \n",
      "-\n",
      " \n",
      "déterminer, en particulier, les clauses financières communes qui concernent \n",
      "la nature des prestations, notamment la définition des prix et les formules de révisi\n",
      "on des \n",
      "prix\n",
      ",\n",
      " \n",
      "et ce conformément à la réglementation en vigueur.\n",
      " \n",
      " \n",
      "Ces cahiers sont approuvés par arrêté du ministre concerné et visés, le cas échéant, par le ministre \n",
      "chargé des finances lorsque lesdits cahiers comportent des clauses ayant une incidence fin\n",
      "ancière.\n",
      " \n",
      " \n",
      "Les cahiers des prescriptions communes propres à un département ministériel ou à un \n",
      "établissement public peuvent être étendus à d'autres départements ministériels ou établissements \n",
      "publics, selon le cas,  par arrêté du  ministre concerné ou par d\n",
      "\n",
      "\n",
      " \n",
      " \n",
      "3\n",
      "-\n",
      " \n",
      "Les cahiers des prescriptions spéciales fixent les clauses propres à chaque marché et \n",
      "comportent la référence aux textes généraux applicables et l'indication des articles des cahiers\n",
      " \n",
      "des prescriptions communes et, le cas échéant, de ceux des cahiers des clauses administratives \n",
      "générales auxquels il est éventuellement dérogé en vertu des dispositions desdits cahiers sans  \n",
      "toutefois, reprendre les clauses du cahier des clauses administr\n",
      "atives générales ou du cahier des \n",
      "prescriptions communes auxquelles ils ne dérogent pas.\n",
      " \n",
      " \n",
      "\n",
      "de la procédure de passation du marché. Cette signature prend la forme \n",
      "\n",
      "ou électronique pour le cahier des prescriptions spéciales publié dans le portail des marchés \n",
      "publics. \n",
      " \n",
      " \n",
      "B\n",
      " \n",
      "\n",
      " \n",
      "Les cahiers des prescriptions spéciales doivent contenir, au moins les mentions suivantes :\n",
      " \n",
      "a)\n",
      " \n",
      "le mode \n",
      "de passation ;\n",
      " \n",
      " \n",
      "b)\n",
      " \n",
      "la réf\n",
      "érence expresse aux alinéas, paragraphes et articles du présent  décret en vertu \n",
      " \n",
      "desquels le marché est passé ;\n",
      " \n",
      " \n",
      "c)\n",
      " \n",
      "l'indication des parties contractantes, les noms et qualités des signataires agissant au \n",
      " \n",
      "nom du maître d'ouvrage et du cocontractant ;\n",
      " \n",
      " \n",
      "d)\n",
      " \n",
      "l'obj\n",
      "et et la consistance des prestations avec indication de la ou des préfectures ou provinces \n",
      "ou localités du lieu d'exécution des prestations ;\n",
      " \n",
      " \n",
      "\n",
      "---------------------\n",
      "---------------------\n",
      "3171\n"
     ]
    }
   ],
   "source": [
    "#open the file\n",
    "pdfFileObj = open(\"Decret1.pdf\", 'rb')\n",
    "# creating a pdf reader object \n",
    "pdfReader = PyPDF2.PdfFileReader(pdfFileObj) \n",
    "\n",
    "# printing number of pages in pdf file \n",
    "print(pdfReader.numPages) \n",
    "\n",
    "# creating a page object \n",
    "pageObj = pdfReader.getPage(10) \n",
    "\n",
    "text = pageObj.extractText()\n",
    "\n",
    "# extracting text from page \n",
    "print(text) \n",
    "print('---------------------')\n",
    "print('---------------------')\n",
    "print(len(text))  \n",
    "# closing the pdf file object \n",
    "pdfFileObj.close()"
   ]
  },
  {
   "cell_type": "markdown",
   "metadata": {},
   "source": [
    "# REMOVING PUNCTUATION"
   ]
  },
  {
   "cell_type": "code",
   "execution_count": 216,
   "metadata": {},
   "outputs": [
    {
     "name": "stdout",
     "output_type": "stream",
     "text": [
      " 11 118 si un marché comporte plusieurs catégories de prestations le cahier des clauses administratives générales applicable est celui correspondant à la catégorie prépondérante de ces prestations en cas d absence d un cahier des clauses administrative s générales propre aux prestations objet du marché celui ci est régi par l un des cahiers des clauses administratives générales en vigueur le plus adapté en procédant aux ajustements nécessaires 2 les cahiers des prescriptions communes fixent essent iellement les dispositions techniques applicables à tous les marchés portant sur une même nature de travaux de fournitures ou de services ou à tous les marchés passés par un même département ministériel ou par un même service spécialisé ou par un établiss ement public les cahiers des prescriptions communes peuvent cependant contenir dans le respect des prescriptions du cahier des clauses administratives générales toutes prescriptions communes autres que techniques à tous les marchés de la catégorie à laquelle ils sont applicables ou au département ministériel ou service qu ils concernent déterminer en particulier les clauses financières communes qui concernent la nature des prestations notamment la définition des prix et les formules de révisi on des prix et ce conformément à la réglementation en vigueur ces cahiers sont approuvés par arrêté du ministre concerné et visés le cas échéant par le ministre chargé des finances lorsque lesdits cahiers comportent des clauses ayant une incidence fin ancière les cahiers des prescriptions communes propres à un département ministériel ou à un établissement public peuvent être étendus à d autres départements ministériels ou établissements publics selon le cas par arrêté du ministre concerné ou par d 3 les cahiers des prescriptions spéciales fixent les clauses propres à chaque marché et comportent la référence aux textes généraux applicables et l indication des articles des cahiers des prescriptions communes et le cas échéant de ceux des cahiers des clauses administratives générales auxquels il est éventuellement dérogé en vertu des dispositions desdits cahiers sans toutefois reprendre les clauses du cahier des clauses administr atives générales ou du cahier des prescriptions communes auxquelles ils ne dérogent pas de la procédure de passation du marché cette signature prend la forme ou électronique pour le cahier des prescriptions spéciales publié dans le portail des marchés publics b les cahiers des prescriptions spéciales doivent contenir au moins les mentions suivantes a le mode de passation b la réf érence expresse aux alinéas paragraphes et articles du présent décret en vertu desquels le marché est passé c l indication des parties contractantes les noms et qualités des signataires agissant au nom du maître d ouvrage et du cocontractant d l obj et et la consistance des prestations avec indication de la ou des préfectures ou provinces ou localités du lieu d exécution des prestations  \n"
     ]
    }
   ],
   "source": [
    "def  r_punctuation(text):\n",
    "    \"\"\" Return a cleaned version of text\n",
    "    \"\"\"\n",
    "    text = re.sub('<[^>]*>', '', text)\n",
    "    emoticons = re.findall('(?::|;|=)(?:-)?(?:\\)|\\(|D|P)', text)\n",
    "    text = (re.sub('[\\W]+', ' ', text.lower()) + ' ' + ' '.join(emoticons).replace('-', ''))\n",
    "    \n",
    "    print(text)\n",
    "    return text\n",
    "\n",
    "#text = str(pageObj)\n",
    "text = r_punctuation(text)"
   ]
  },
  {
   "cell_type": "code",
   "execution_count": null,
   "metadata": {},
   "outputs": [],
   "source": []
  },
  {
   "cell_type": "markdown",
   "metadata": {},
   "source": [
    "# REMOVING ACCENTED CHARACTERS"
   ]
  },
  {
   "cell_type": "code",
   "execution_count": 217,
   "metadata": {
    "scrolled": true
   },
   "outputs": [
    {
     "name": "stdout",
     "output_type": "stream",
     "text": [
      " 11 118 si un marche comporte plusieurs categories de prestations le cahier des clauses administratives generales applicable est celui correspondant a la categorie preponderante de ces prestations en cas d absence d un cahier des clauses administrative s generales propre aux prestations objet du marche celui ci est regi par l un des cahiers des clauses administratives generales en vigueur le plus adapte en procedant aux ajustements necessaires 2 les cahiers des prescriptions communes fixent essent iellement les dispositions techniques applicables a tous les marches portant sur une meme nature de travaux de fournitures ou de services ou a tous les marches passes par un meme departement ministeriel ou par un meme service specialise ou par un etabliss ement public les cahiers des prescriptions communes peuvent cependant contenir dans le respect des prescriptions du cahier des clauses administratives generales toutes prescriptions communes autres que techniques a tous les marches de la categorie a laquelle ils sont applicables ou au departement ministeriel ou service qu ils concernent determiner en particulier les clauses financieres communes qui concernent la nature des prestations notamment la definition des prix et les formules de revisi on des prix et ce conformement a la reglementation en vigueur ces cahiers sont approuves par arrete du ministre concerne et vises le cas echeant par le ministre charge des finances lorsque lesdits cahiers comportent des clauses ayant une incidence fin anciere les cahiers des prescriptions communes propres a un departement ministeriel ou a un etablissement public peuvent etre etendus a d autres departements ministeriels ou etablissements publics selon le cas par arrete du ministre concerne ou par d 3 les cahiers des prescriptions speciales fixent les clauses propres a chaque marche et comportent la reference aux textes generaux applicables et l indication des articles des cahiers des prescriptions communes et le cas echeant de ceux des cahiers des clauses administratives generales auxquels il est eventuellement deroge en vertu des dispositions desdits cahiers sans toutefois reprendre les clauses du cahier des clauses administr atives generales ou du cahier des prescriptions communes auxquelles ils ne derogent pas de la procedure de passation du marche cette signature prend la forme ou electronique pour le cahier des prescriptions speciales publie dans le portail des marches publics b les cahiers des prescriptions speciales doivent contenir au moins les mentions suivantes a le mode de passation b la ref erence expresse aux alineas paragraphes et articles du present decret en vertu desquels le marche est passe c l indication des parties contractantes les noms et qualites des signataires agissant au nom du maitre d ouvrage et du cocontractant d l obj et et la consistance des prestations avec indication de la ou des prefectures ou provinces ou localites du lieu d execution des prestations  \n",
      "2971\n"
     ]
    }
   ],
   "source": [
    "import unidecode\n",
    "unaccented_string = unidecode.unidecode(text)\n",
    "print(unaccented_string)\n",
    "print (len(unaccented_string))"
   ]
  },
  {
   "cell_type": "markdown",
   "metadata": {},
   "source": [
    "# STOP-WORDS"
   ]
  },
  {
   "cell_type": "code",
   "execution_count": 218,
   "metadata": {},
   "outputs": [
    {
     "name": "stdout",
     "output_type": "stream",
     "text": [
      "---------------------\n",
      "---------------------\n",
      "11 118 si marche comporte plusieurs categories prestations cahier clauses administratives generales applicable celui correspondant a categorie preponderante prestations cas absence cahier clauses administrative generales propre prestations objet marche celui ci regi cahiers clauses administratives generales vigueur plus adapte procedant ajustements necessaires 2 cahiers prescriptions communes fixent essent iellement dispositions techniques applicables a tous marches portant meme nature travaux fournitures services a tous marches passes meme departement ministeriel meme service specialise etabliss ement public cahiers prescriptions communes peuvent cependant contenir respect prescriptions cahier clauses administratives generales toutes prescriptions communes autres techniques a tous marches categorie a laquelle applicables departement ministeriel service concernent determiner particulier clauses financieres communes concernent nature prestations notamment definition prix formules revisi prix conformement a reglementation vigueur cahiers approuves arrete ministre concerne vises cas echeant ministre charge finances lorsque lesdits cahiers comportent clauses incidence fin anciere cahiers prescriptions communes propres a departement ministeriel a etablissement public peuvent etre etendus a autres departements ministeriels etablissements publics selon cas arrete ministre concerne 3 cahiers prescriptions speciales fixent clauses propres a chaque marche comportent reference textes generaux applicables indication articles cahiers prescriptions communes cas echeant ceux cahiers clauses administratives generales auxquels eventuellement deroge vertu dispositions desdits cahiers sans toutefois reprendre clauses cahier clauses administr atives generales cahier prescriptions communes auxquelles derogent procedure passation marche cette signature prend forme electronique cahier prescriptions speciales publie portail marches publics b cahiers prescriptions speciales doivent contenir moins mentions suivantes a mode passation b ref erence expresse alineas paragraphes articles present decret vertu desquels marche passe indication parties contractantes noms qualites signataires agissant nom maitre ouvrage cocontractant obj consistance prestations indication prefectures provinces localites lieu execution prestations\n",
      "---------------------\n",
      "---------------------\n",
      "Len after stopwords removing : 2335\n"
     ]
    },
    {
     "name": "stderr",
     "output_type": "stream",
     "text": [
      "[nltk_data] Error loading stopwords: <urlopen error [Errno -3]\n",
      "[nltk_data]     Temporary failure in name resolution>\n"
     ]
    }
   ],
   "source": [
    "nltk.download('stopwords')\n",
    "from nltk.corpus import stopwords\n",
    "sw = stopwords.words('french') #pour le text en français \n",
    "#print(np.array(sw))\n",
    "#print(len(np.array(sw)))\n",
    "\n",
    "#Tokens = str(Tokens)\n",
    "#print('Len before stopwords removing :' ,len(print(unaccented_string)))\n",
    "print('---------------------')\n",
    "print('---------------------')\n",
    "def stopwords(text):\n",
    "    text = [word.lower() for word in text.split() if word.lower() not in sw]\n",
    "    return \" \".join(text)\n",
    "\n",
    "stopw = stopwords(unaccented_string)\n",
    "print(stopw)\n",
    "print('---------------------')\n",
    "print('---------------------')\n",
    "print('Len after stopwords removing :' ,len(stopw))"
   ]
  },
  {
   "cell_type": "markdown",
   "metadata": {},
   "source": [
    "# TOKENIZATION"
   ]
  },
  {
   "cell_type": "code",
   "execution_count": 219,
   "metadata": {},
   "outputs": [
    {
     "name": "stdout",
     "output_type": "stream",
     "text": [
      "11 118 si marche comporte plusieurs categories prestations cahier clauses administratives generales applicable celui correspondant a categorie preponderante prestations cas absence cahier clauses administrative generales propre prestations objet marche celui ci regi cahiers clauses administratives generales vigueur plus adapte procedant ajustements necessaires 2 cahiers prescriptions communes fixent essent iellement dispositions techniques applicables a tous marches portant meme nature travaux fournitures services a tous marches passes meme departement ministeriel meme service specialise etabliss ement public cahiers prescriptions communes peuvent cependant contenir respect prescriptions cahier clauses administratives generales toutes prescriptions communes autres techniques a tous marches categorie a laquelle applicables departement ministeriel service concernent determiner particulier clauses financieres communes concernent nature prestations notamment definition prix formules revisi prix conformement a reglementation vigueur cahiers approuves arrete ministre concerne vises cas echeant ministre charge finances lorsque lesdits cahiers comportent clauses incidence fin anciere cahiers prescriptions communes propres a departement ministeriel a etablissement public peuvent etre etendus a autres departements ministeriels etablissements publics selon cas arrete ministre concerne 3 cahiers prescriptions speciales fixent clauses propres a chaque marche comportent reference textes generaux applicables indication articles cahiers prescriptions communes cas echeant ceux cahiers clauses administratives generales auxquels eventuellement deroge vertu dispositions desdits cahiers sans toutefois reprendre clauses cahier clauses administr atives generales cahier prescriptions communes auxquelles derogent procedure passation marche cette signature prend forme electronique cahier prescriptions speciales publie portail marches publics b cahiers prescriptions speciales doivent contenir moins mentions suivantes a mode passation b ref erence expresse alineas paragraphes articles present decret vertu desquels marche passe indication parties contractantes noms qualites signataires agissant nom maitre ouvrage cocontractant obj consistance prestations indication prefectures provinces localites lieu execution prestations\n",
      "---------------------\n",
      "---------------------\n",
      "272\n"
     ]
    }
   ],
   "source": [
    "def return_token(sentence):\n",
    "    # Tokeniser la phrase\n",
    "    return nlp(sentence)\n",
    "    # Retourner le texte de chaque token\n",
    "    #return [X.text for X in doc]\n",
    "\n",
    "Tokens = return_token(stopw)\n",
    "print(Tokens)\n",
    "print('---------------------')\n",
    "print('---------------------')\n",
    "print(len(Tokens))"
   ]
  },
  {
   "cell_type": "markdown",
   "metadata": {},
   "source": [
    "# STEMMING"
   ]
  },
  {
   "cell_type": "code",
   "execution_count": 220,
   "metadata": {},
   "outputs": [],
   "source": [
    "#iMPORTATION\n"
   ]
  },
  {
   "cell_type": "code",
   "execution_count": 221,
   "metadata": {},
   "outputs": [
    {
     "name": "stdout",
     "output_type": "stream",
     "text": [
      "['11', '118', 'si', 'march', 'comport', 'plusieur', 'categor', 'prestat', 'cahi', 'claus', 'administr', 'general', 'applic', 'celui', 'correspond', 'a', 'categor', 'preponder', 'prestat', 'cas', 'absenc', 'cahi', 'claus', 'administr', 'general', 'propr', 'prestat', 'objet', 'march', 'celui', 'ci', 'reg', 'cahi', 'claus', 'administr', 'general', 'vigueur', 'plus', 'adapt', 'proced', 'ajust', 'necessair', '2', 'cahi', 'prescript', 'commun', 'fixent', 'essent', 'iel', 'disposit', 'techniqu', 'applic', 'a', 'tous', 'march', 'port', 'mem', 'natur', 'traval', 'fournitur', 'servic', 'a', 'tous', 'march', 'pass', 'mem', 'depart', 'ministeriel', 'mem', 'servic', 'specialis', 'etabliss', 'ement', 'public', 'cahi', 'prescript', 'commun', 'peuvent', 'cepend', 'conten', 'respect', 'prescript', 'cahi', 'claus', 'administr', 'general', 'tout', 'prescript', 'commun', 'autr', 'techniqu', 'a', 'tous', 'march', 'categor', 'a', 'laquel', 'applic', 'depart', 'ministeriel', 'servic', 'concernent', 'determin', 'particuli', 'claus', 'financier', 'commun', 'concernent', 'natur', 'prestat', 'not', 'definit', 'prix', 'formul', 'revis', 'prix', 'conform', 'a', 'reglement', 'vigueur', 'cahi', 'approuv', 'arret', 'ministr', 'concern', 'vis', 'cas', 'eche', 'ministr', 'charg', 'financ', 'lorsqu', 'lesdit', 'cahi', 'comportent', 'claus', 'incident', 'fin', 'ancier', 'cahi', 'prescript', 'commun', 'propr', 'a', 'depart', 'ministeriel', 'a', 'etabl', 'public', 'peuvent', 'etre', 'etendus', 'a', 'autr', 'depart', 'ministeriel', 'etabl', 'public', 'selon', 'cas', 'arret', 'ministr', 'concern', '3', 'cahi', 'prescript', 'special', 'fixent', 'claus', 'propr', 'a', 'chaqu', 'march', 'comportent', 'referent', 'text', 'general', 'applic', 'indiqu', 'articl', 'cahi', 'prescript', 'commun', 'cas', 'eche', 'ceux', 'cahi', 'claus', 'administr', 'general', 'auxquel', 'eventuel', 'derog', 'vertu', 'disposit', 'desdit', 'cahi', 'san', 'toutefois', 'reprendr', 'claus', 'cahi', 'claus', 'administr', 'ativ', 'general', 'cahi', 'prescript', 'commun', 'auxquel', 'derogent', 'procedur', 'passat', 'march', 'cet', 'signatur', 'prend', 'form', 'electron', 'cahi', 'prescript', 'special', 'publ', 'portail', 'march', 'public', 'b', 'cahi', 'prescript', 'special', 'doivent', 'conten', 'moin', 'mention', 'suiv', 'a', 'mod', 'passat', 'b', 'ref', 'erenc', 'express', 'alin', 'paragraph', 'articl', 'present', 'decret', 'vertu', 'desquel', 'march', 'pass', 'indiqu', 'part', 'contract', 'nom', 'qualit', 'signatair', 'agiss', 'nom', 'maitr', 'ouvrag', 'cocontract', 'obj', 'consist', 'prestat', 'indiqu', 'prefectur', 'provinc', 'localit', 'lieu', 'execu', 'prestat']\n",
      "---------------------\n",
      "---------------------\n",
      "Len after stopwords removing : 272\n"
     ]
    }
   ],
   "source": [
    "from nltk.stem.snowball import SnowballStemmer\n",
    "stemmer = SnowballStemmer(language='french')\n",
    "\n",
    "def return_stem(sentence):\n",
    "    #doc = nlp(sentence)\n",
    "    return [stemmer.stem(X.text) for X in sentence]\n",
    "\n",
    "Stemmatized = return_stem(Tokens)\n",
    "print (Stemmatized)\n",
    "print('---------------------')\n",
    "print('---------------------')\n",
    "print('Len after stopwords removing :' ,len(Stemmatized))"
   ]
  },
  {
   "cell_type": "markdown",
   "metadata": {},
   "source": [
    "# NER"
   ]
  },
  {
   "cell_type": "code",
   "execution_count": 222,
   "metadata": {},
   "outputs": [
    {
     "name": "stdout",
     "output_type": "stream",
     "text": [
      "2645\n",
      "(administr, administr, administr, ajust', general', laquel', not', chaqu', text', general', general', san', administr, b, b, ref', alin', maitr', ouvrag')\n"
     ]
    },
    {
     "data": {
      "text/plain": [
       "[('administr', 'LOC'),\n",
       " ('administr', 'LOC'),\n",
       " ('administr', 'LOC'),\n",
       " (\"ajust'\", 'MISC'),\n",
       " (\"general'\", 'MISC'),\n",
       " (\"laquel'\", 'PER'),\n",
       " (\"not'\", 'LOC'),\n",
       " (\"chaqu'\", 'MISC'),\n",
       " (\"text'\", 'MISC'),\n",
       " (\"general'\", 'MISC'),\n",
       " (\"general'\", 'MISC'),\n",
       " (\"san'\", 'LOC'),\n",
       " ('administr', 'LOC'),\n",
       " ('b', 'LOC'),\n",
       " ('b', 'LOC'),\n",
       " (\"ref'\", 'LOC'),\n",
       " (\"alin'\", 'MISC'),\n",
       " (\"maitr'\", 'MISC'),\n",
       " (\"ouvrag'\", 'LOC')]"
      ]
     },
     "execution_count": 222,
     "metadata": {},
     "output_type": "execute_result"
    }
   ],
   "source": [
    "def return_NER(sentence):\n",
    "    # Tokeniser la phrase\n",
    "    doc = nlp(sentence)\n",
    "    print(doc.ents)\n",
    "    # Retourner le texte et le label pour chaque entité\n",
    "    return [(X.text, X.label_) for X in doc.ents]\n",
    "Stemmtized_for_ner = str(Stemmatized)\n",
    "#print(Stemmtized_for_ner)\n",
    "print(len(Stemmtized_for_ner))\n",
    "NERR = return_NER(Stemmtized_for_ner)\n",
    "NERR"
   ]
  },
  {
   "cell_type": "markdown",
   "metadata": {},
   "source": [
    "# POS_TAG"
   ]
  },
  {
   "cell_type": "code",
   "execution_count": 223,
   "metadata": {},
   "outputs": [
    {
     "data": {
      "text/plain": [
       "'def return_POS(sentence):\\n    # Tokeniser la phrase\\n    doc = nlp(sentence)\\n    # Retourner les étiquettes de chaque token\\n    return [(X, X.pos_) for X in doc]\\n\\nreturn_POS(Stemmtized_for_ner)'"
      ]
     },
     "execution_count": 223,
     "metadata": {},
     "output_type": "execute_result"
    }
   ],
   "source": [
    "'''def return_POS(sentence):\n",
    "    # Tokeniser la phrase\n",
    "    doc = nlp(sentence)\n",
    "    # Retourner les étiquettes de chaque token\n",
    "    return [(X, X.pos_) for X in doc]\n",
    "\n",
    "return_POS(Stemmtized_for_ner)'''"
   ]
  },
  {
   "cell_type": "code",
   "execution_count": 224,
   "metadata": {},
   "outputs": [
    {
     "data": {
      "text/plain": [
       "\"nltk.download('averaged_perceptron_tagger')\\npos_tag = nltk.pos_tag(Stemmatized)\\nprint(pos_tag)\""
      ]
     },
     "execution_count": 224,
     "metadata": {},
     "output_type": "execute_result"
    }
   ],
   "source": [
    "'''nltk.download('averaged_perceptron_tagger')\n",
    "pos_tag = nltk.pos_tag(Stemmatized)\n",
    "print(pos_tag)'''"
   ]
  },
  {
   "cell_type": "code",
   "execution_count": 225,
   "metadata": {},
   "outputs": [],
   "source": [
    "import os\n",
    "java_path = \"C:/Program Files/Java/jdk1.8.0_101/bin/java.exe\"\n",
    "os.environ['JAVAHOME'] = java_path"
   ]
  },
  {
   "cell_type": "code",
   "execution_count": 226,
   "metadata": {},
   "outputs": [
    {
     "ename": "LookupError",
     "evalue": "Could not find stanford-postagger.jar jar file at /StanfordTaggers/stanfordPostagger.jar",
     "output_type": "error",
     "traceback": [
      "\u001b[0;31m---------------------------------------------------------------------------\u001b[0m",
      "\u001b[0;31mLookupError\u001b[0m                               Traceback (most recent call last)",
      "\u001b[0;32m<ipython-input-226-90f958cafc76>\u001b[0m in \u001b[0;36m<module>\u001b[0;34m\u001b[0m\n\u001b[1;32m      3\u001b[0m \u001b[0mroot_path\u001b[0m\u001b[0;34m=\u001b[0m\u001b[0;34m\"/StanforidTaggers\"\u001b[0m\u001b[0;34m\u001b[0m\u001b[0;34m\u001b[0m\u001b[0m\n\u001b[1;32m      4\u001b[0m \u001b[0mroot_path2\u001b[0m \u001b[0;34m=\u001b[0m \u001b[0;34m\"/StanfordTaggers/stanfordPostagger.jar\"\u001b[0m\u001b[0;34m\u001b[0m\u001b[0;34m\u001b[0m\u001b[0m\n\u001b[0;32m----> 5\u001b[0;31m \u001b[0mpos_tagger\u001b[0m \u001b[0;34m=\u001b[0m \u001b[0mStanfordPOSTagger\u001b[0m\u001b[0;34m(\u001b[0m\u001b[0mroot_path\u001b[0m \u001b[0;34m+\u001b[0m \u001b[0;34m\"models/french.tagger\"\u001b[0m\u001b[0;34m,\u001b[0m \u001b[0mroot_path2\u001b[0m\u001b[0;34m,\u001b[0m \u001b[0mencoding\u001b[0m\u001b[0;34m=\u001b[0m\u001b[0;34m'utf8'\u001b[0m\u001b[0;34m)\u001b[0m \u001b[0;31m#instance de la classe StanfordPOSTagger en UTF-8\u001b[0m\u001b[0;34m\u001b[0m\u001b[0;34m\u001b[0m\u001b[0m\n\u001b[0m\u001b[1;32m      6\u001b[0m \u001b[0mtest\u001b[0m \u001b[0;34m=\u001b[0m \u001b[0;34m\"je veux manger la pomme\"\u001b[0m\u001b[0;34m\u001b[0m\u001b[0;34m\u001b[0m\u001b[0m\n\u001b[1;32m      7\u001b[0m \u001b[0;32mdef\u001b[0m \u001b[0mpos_tag\u001b[0m\u001b[0;34m(\u001b[0m\u001b[0msentence\u001b[0m\u001b[0;34m)\u001b[0m\u001b[0;34m:\u001b[0m\u001b[0;34m\u001b[0m\u001b[0;34m\u001b[0m\u001b[0m\n",
      "\u001b[0;32m/opt/conda/lib/python3.7/site-packages/nltk/tag/stanford.py\u001b[0m in \u001b[0;36m__init__\u001b[0;34m(self, *args, **kwargs)\u001b[0m\n\u001b[1;32m    158\u001b[0m \u001b[0;34m\u001b[0m\u001b[0m\n\u001b[1;32m    159\u001b[0m     \u001b[0;32mdef\u001b[0m \u001b[0m__init__\u001b[0m\u001b[0;34m(\u001b[0m\u001b[0mself\u001b[0m\u001b[0;34m,\u001b[0m \u001b[0;34m*\u001b[0m\u001b[0margs\u001b[0m\u001b[0;34m,\u001b[0m \u001b[0;34m**\u001b[0m\u001b[0mkwargs\u001b[0m\u001b[0;34m)\u001b[0m\u001b[0;34m:\u001b[0m\u001b[0;34m\u001b[0m\u001b[0;34m\u001b[0m\u001b[0m\n\u001b[0;32m--> 160\u001b[0;31m         \u001b[0msuper\u001b[0m\u001b[0;34m(\u001b[0m\u001b[0mStanfordPOSTagger\u001b[0m\u001b[0;34m,\u001b[0m \u001b[0mself\u001b[0m\u001b[0;34m)\u001b[0m\u001b[0;34m.\u001b[0m\u001b[0m__init__\u001b[0m\u001b[0;34m(\u001b[0m\u001b[0;34m*\u001b[0m\u001b[0margs\u001b[0m\u001b[0;34m,\u001b[0m \u001b[0;34m**\u001b[0m\u001b[0mkwargs\u001b[0m\u001b[0;34m)\u001b[0m\u001b[0;34m\u001b[0m\u001b[0;34m\u001b[0m\u001b[0m\n\u001b[0m\u001b[1;32m    161\u001b[0m \u001b[0;34m\u001b[0m\u001b[0m\n\u001b[1;32m    162\u001b[0m     \u001b[0;34m@\u001b[0m\u001b[0mproperty\u001b[0m\u001b[0;34m\u001b[0m\u001b[0;34m\u001b[0m\u001b[0m\n",
      "\u001b[0;32m/opt/conda/lib/python3.7/site-packages/nltk/tag/stanford.py\u001b[0m in \u001b[0;36m__init__\u001b[0;34m(self, model_filename, path_to_jar, encoding, verbose, java_options)\u001b[0m\n\u001b[1;32m     72\u001b[0m             )\n\u001b[1;32m     73\u001b[0m         self._stanford_jar = find_jar(\n\u001b[0;32m---> 74\u001b[0;31m             \u001b[0mself\u001b[0m\u001b[0;34m.\u001b[0m\u001b[0m_JAR\u001b[0m\u001b[0;34m,\u001b[0m \u001b[0mpath_to_jar\u001b[0m\u001b[0;34m,\u001b[0m \u001b[0msearchpath\u001b[0m\u001b[0;34m=\u001b[0m\u001b[0;34m(\u001b[0m\u001b[0;34m)\u001b[0m\u001b[0;34m,\u001b[0m \u001b[0murl\u001b[0m\u001b[0;34m=\u001b[0m\u001b[0m_stanford_url\u001b[0m\u001b[0;34m,\u001b[0m \u001b[0mverbose\u001b[0m\u001b[0;34m=\u001b[0m\u001b[0mverbose\u001b[0m\u001b[0;34m\u001b[0m\u001b[0;34m\u001b[0m\u001b[0m\n\u001b[0m\u001b[1;32m     75\u001b[0m         )\n\u001b[1;32m     76\u001b[0m \u001b[0;34m\u001b[0m\u001b[0m\n",
      "\u001b[0;32m/opt/conda/lib/python3.7/site-packages/nltk/internals.py\u001b[0m in \u001b[0;36mfind_jar\u001b[0;34m(name_pattern, path_to_jar, env_vars, searchpath, url, verbose, is_regex)\u001b[0m\n\u001b[1;32m    852\u001b[0m     return next(\n\u001b[1;32m    853\u001b[0m         find_jar_iter(\n\u001b[0;32m--> 854\u001b[0;31m             \u001b[0mname_pattern\u001b[0m\u001b[0;34m,\u001b[0m \u001b[0mpath_to_jar\u001b[0m\u001b[0;34m,\u001b[0m \u001b[0menv_vars\u001b[0m\u001b[0;34m,\u001b[0m \u001b[0msearchpath\u001b[0m\u001b[0;34m,\u001b[0m \u001b[0murl\u001b[0m\u001b[0;34m,\u001b[0m \u001b[0mverbose\u001b[0m\u001b[0;34m,\u001b[0m \u001b[0mis_regex\u001b[0m\u001b[0;34m\u001b[0m\u001b[0;34m\u001b[0m\u001b[0m\n\u001b[0m\u001b[1;32m    855\u001b[0m         )\n\u001b[1;32m    856\u001b[0m     )\n",
      "\u001b[0;32m/opt/conda/lib/python3.7/site-packages/nltk/internals.py\u001b[0m in \u001b[0;36mfind_jar_iter\u001b[0;34m(name_pattern, path_to_jar, env_vars, searchpath, url, verbose, is_regex)\u001b[0m\n\u001b[1;32m    738\u001b[0m         \u001b[0;32melse\u001b[0m\u001b[0;34m:\u001b[0m\u001b[0;34m\u001b[0m\u001b[0;34m\u001b[0m\u001b[0m\n\u001b[1;32m    739\u001b[0m             raise LookupError(\n\u001b[0;32m--> 740\u001b[0;31m                 \u001b[0;34m'Could not find %s jar file at %s'\u001b[0m \u001b[0;34m%\u001b[0m \u001b[0;34m(\u001b[0m\u001b[0mname_pattern\u001b[0m\u001b[0;34m,\u001b[0m \u001b[0mpath_to_jar\u001b[0m\u001b[0;34m)\u001b[0m\u001b[0;34m\u001b[0m\u001b[0;34m\u001b[0m\u001b[0m\n\u001b[0m\u001b[1;32m    741\u001b[0m             )\n\u001b[1;32m    742\u001b[0m \u001b[0;34m\u001b[0m\u001b[0m\n",
      "\u001b[0;31mLookupError\u001b[0m: Could not find stanford-postagger.jar jar file at /StanfordTaggers/stanfordPostagger.jar"
     ]
    }
   ],
   "source": [
    "import nltk\n",
    "from nltk.tag.stanford import StanfordPOSTagger\n",
    "root_path=\"/StanforidTaggers\"\n",
    "root_path2 = \"/StanfordTaggers/stanfordPostagger.jar\"\n",
    "pos_tagger = StanfordPOSTagger(root_path + \"models/french.tagger\", root_path2, encoding='utf8') #instance de la classe StanfordPOSTagger en UTF-8\n",
    "test = \"je veux manger la pomme\"\n",
    "def pos_tag(sentence):\n",
    "    tokens = nltk.word_tokenize(sentence) #je transforme la phrase en tokens => si vous avez un texte avec plusieurs phrases, passez d'abord par nltk pour récupérer les phrases\n",
    "    tags = pos_tagger.tag(tokens) #lance le tagging\n",
    "    return tags\n",
    "\n",
    "pos_tag(test)"
   ]
  },
  {
   "cell_type": "code",
   "execution_count": null,
   "metadata": {},
   "outputs": [],
   "source": [
    "import urllib.request\n",
    "import zipfile\n",
    "\n",
    "# Download the file.\n",
    "urllib.request.urlretrieve(r'http://nlp.stanford.edu/software/stanford-postagger-full-2015-04-20.zip', r'C:\\Program Files\\JetBrains\\PyCharm 2017.1.2\\stanford-postagger-full-2015-04-20.zip')\n",
    "\n",
    "# Initialize a zipfile object.\n",
    "zfile = zipfile.ZipFile(r'C:\\Program Files\\JetBrains\\PyCharm 2017.1.2\\stanford-pos-2015-04-20.zip')\n",
    "\n",
    "# Unzip the file.\n",
    "zfile.extractall(r'C:\\Program Files\\JetBrains\\PyCharm 2017.1.2\\stanford-pos')"
   ]
  }
 ],
 "metadata": {
  "kernelspec": {
   "display_name": "Python 3",
   "language": "python",
   "name": "python3"
  },
  "language_info": {
   "codemirror_mode": {
    "name": "ipython",
    "version": 3
   },
   "file_extension": ".py",
   "mimetype": "text/x-python",
   "name": "python",
   "nbconvert_exporter": "python",
   "pygments_lexer": "ipython3",
   "version": "3.7.3"
  }
 },
 "nbformat": 4,
 "nbformat_minor": 2
}
