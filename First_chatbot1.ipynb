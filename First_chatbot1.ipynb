{
 "cells": [
  {
   "cell_type": "markdown",
   "metadata": {},
   "source": [
    "# IMPORTATION"
   ]
  },
  {
   "cell_type": "code",
   "execution_count": null,
   "metadata": {},
   "outputs": [],
   "source": [
    "import pandas as pd\n",
    "import numpy as np\n",
    "from numpy import random\n",
    "import gensim\n",
    "import nltk\n",
    "import matplotlib.pyplot as plt\n",
    "from nltk.corpus import stopwords\n",
    "import re\n",
    "import matplotlib\n",
    "from matplotlib import pyplot as plt\n",
    "import codecs\n",
    "import PyPDF2\n",
    "%matplotlib inline\n",
    "import spacy\n",
    "import fr_core_news_sm\n",
    "nlp = spacy.load(\"fr_core_news_sm\")\n",
    "from sklearn.manifold import TSNE\n",
    "from numpy import dot\n",
    "from numpy.linalg import norm"
   ]
  },
  {
   "cell_type": "markdown",
   "metadata": {},
   "source": [
    "# OPEN 2nd & 3rd pages"
   ]
  },
  {
   "cell_type": "code",
   "execution_count": null,
   "metadata": {},
   "outputs": [],
   "source": [
    "#open the file\n",
    "pdfFileObj = open(\"Decret1.pdf\", 'rb')\n",
    "# creating a pdf reader object \n",
    "pdfReader = PyPDF2.PdfFileReader(pdfFileObj) \n",
    "\n",
    "# printing number of pages in pdf file \n",
    "print(pdfReader.numPages) \n",
    "\n",
    "# creating a page object \n",
    "pageObj = pdfReader.getPage(1) \n",
    "\n",
    "text = pageObj.extractText()\n",
    "text2 = ''\n",
    "\n",
    "#number_of_pages = read_pdf.getNumPages()\n",
    "number_of_pages = 3\n",
    "for page_number in range(1,number_of_pages):   # use xrange in Py2\n",
    "    page = pdfReader.getPage(page_number)\n",
    "    page_content = page.extractText()\n",
    "    text2 = text2 + page_content\n",
    "\n",
    "# extracting text from page \n",
    "print(text2) \n",
    "print('---------------------')\n",
    "print('---------------------')\n",
    "print(len(text))  \n",
    "print(type(text))\n",
    "# closing the pdf file object \n",
    "pdfFileObj.close()\n",
    "\n"
   ]
  },
  {
   "cell_type": "markdown",
   "metadata": {},
   "source": [
    "# PRE-PROCESSING"
   ]
  },
  {
   "cell_type": "code",
   "execution_count": null,
   "metadata": {},
   "outputs": [],
   "source": [
    "def  r_punctuation(text):\n",
    "    \"\"\" Return a cleaned version of text\n",
    "    \"\"\"\n",
    "    text = re.sub('<[^>]*>', '', text)\n",
    "    emoticons = re.findall('(?::|;|=)(?:-)?(?:\\)|\\(|D|P)', text)\n",
    "    text = (re.sub('[\\W]+', ' ', text.lower()) + ' ' + ' '.join(emoticons).replace('-', ''))\n",
    "    return text\n",
    "\n",
    "#text = str(pageObj)\n",
    "text = r_punctuation(text2)\n",
    "\n",
    "\n",
    "\n",
    "\n",
    "import unidecode\n",
    "unaccented_string = unidecode.unidecode(text)\n",
    "\n",
    "\n",
    "\n",
    "nltk.download('stopwords')\n",
    "from nltk.corpus import stopwords\n",
    "sw = stopwords.words('french') #pour le text en français \n",
    "#print(np.array(sw))\n",
    "#print(len(np.array(sw)))\n",
    "#Tokens = str(Tokens)\n",
    "#print('Len before stopwords removing :' ,len(print(unaccented_string)))\n",
    "print('---------------------')\n",
    "print('---------------------')\n",
    "def stopwords(text):\n",
    "    text = [word.lower() for word in text.split() if word.lower() not in sw]\n",
    "    return \" \".join(text)\n",
    "\n",
    "stopw = stopwords(unaccented_string)\n",
    "\n",
    "\n",
    "\n",
    "\n",
    "\n",
    "def return_token(sentence):\n",
    "    # Tokeniser la phrase\n",
    "    return nlp(sentence)\n",
    "    # Retourner le texte de chaque token\n",
    "    #return [X.text for X in doc]\n",
    "\n",
    "TokensList = return_token(stopw)\n",
    "\n",
    "\n",
    "\n",
    "\n",
    "\n",
    "\n",
    "from nltk.stem.snowball import SnowballStemmer\n",
    "stemmer = SnowballStemmer(language='french')\n",
    "\n",
    "def return_stem(sentence):\n",
    "    #doc = nlp(sentence)\n",
    "    return [stemmer.stem(X.text) for X in sentence]\n",
    "\n",
    "Stemmatized = return_stem(TokensList)\n",
    "\n",
    "\n",
    "\n",
    "\n",
    "\n",
    "\n",
    "def return_POS(sentence):\n",
    "    # Tokeniser la phrase\n",
    "    doc = nlp(sentence)\n",
    "    # Retourner les étiquettes de chaque token\n",
    "    return [(X, X.pos_) for X in doc]\n",
    "Stem_for_pos = str(Stemmatized)\n",
    "return_POS(Stem_for_pos)\n",
    "\n"
   ]
  },
  {
   "cell_type": "markdown",
   "metadata": {},
   "source": [
    "# N-grams"
   ]
  },
  {
   "cell_type": "code",
   "execution_count": null,
   "metadata": {},
   "outputs": [],
   "source": [
    "from nltk.util import ngrams\n",
    "list(ngrams(TokensList, 2))"
   ]
  },
  {
   "cell_type": "markdown",
   "metadata": {},
   "source": [
    "# TF-idf   (for choosing the medium fraquency n-grams)"
   ]
  },
  {
   "cell_type": "code",
   "execution_count": null,
   "metadata": {},
   "outputs": [],
   "source": [
    "'''from sklearn.feature_extraction.text import TfidfVectorizer \n",
    "tfidf  = TfidfVectorizer(min_df=2, max_df=0.5, ngram_range=(1,2))\n",
    "features = tfidf.fit_transform(Stemmatized)\n",
    "df = pd.DataFrame(\n",
    "    features.todense(),\n",
    "    columns=tfidf.get_feature_names()\n",
    ")\n",
    "print (df.iloc[ 0:22 , : ])'''"
   ]
  },
  {
   "cell_type": "markdown",
   "metadata": {},
   "source": [
    "# Word2vec by gensim"
   ]
  },
  {
   "cell_type": "code",
   "execution_count": null,
   "metadata": {},
   "outputs": [],
   "source": [
    "# sg : CBOW(0) --- Skip gram (1)\n",
    "from gensim.models import Word2Vec\n",
    "#model = Word2Vec([Stemmatized], min_count=1,size= 50,workers=3, window =3, sg = 0)  \n",
    "model = Word2Vec([features], min_count=1,size= 50,workers=3, window =3, sg = 1)"
   ]
  },
  {
   "cell_type": "code",
   "execution_count": null,
   "metadata": {},
   "outputs": [],
   "source": [
    "model['region']"
   ]
  },
  {
   "cell_type": "code",
   "execution_count": null,
   "metadata": {},
   "outputs": [],
   "source": [
    "#model['provinc']\n",
    "model.similarity('region', 'provinc')"
   ]
  },
  {
   "cell_type": "code",
   "execution_count": null,
   "metadata": {},
   "outputs": [],
   "source": [
    "model.most_similar('region')[:5]"
   ]
  },
  {
   "cell_type": "markdown",
   "metadata": {},
   "source": []
  },
  {
   "cell_type": "markdown",
   "metadata": {},
   "source": [
    "# Similarity based on cosine"
   ]
  },
  {
   "cell_type": "code",
   "execution_count": 148,
   "metadata": {},
   "outputs": [
    {
     "name": "stderr",
     "output_type": "stream",
     "text": [
      "DeprecationWarning: Call to deprecated `__getitem__` (Method will be removed in 4.0.0, use self.wv.__getitem__() instead). [ipykernel_launcher.py:4]\n",
      "DeprecationWarning: Call to deprecated `__getitem__` (Method will be removed in 4.0.0, use self.wv.__getitem__() instead). [ipykernel_launcher.py:7]\n"
     ]
    },
    {
     "data": {
      "text/plain": [
       "[('11', 0.32976258),\n",
       " ('safar', 0.30346042),\n",
       " ('maroc', 0.29725486),\n",
       " ('stipulent', 0.29666945),\n",
       " ('90', 0.29652095)]"
      ]
     },
     "execution_count": 148,
     "metadata": {},
     "output_type": "execute_result"
    }
   ],
   "source": [
    "def cosine_distance (model, word,target_list , num) :\n",
    "    cosine_dict ={}\n",
    "    word_list = []\n",
    "    a = model[word]\n",
    "    for item in target_list :\n",
    "        if item != word :\n",
    "            b = model [item]\n",
    "            cos_sim = dot(a, b)/(norm(a)*norm(b))\n",
    "            cosine_dict[item] = cos_sim\n",
    "    dist_sort=sorted(cosine_dict.items(), key=lambda dist: dist[1],reverse = True) ## in Descedning order \n",
    "    for item in dist_sort:\n",
    "        word_list.append((item[0], item[1]))\n",
    "    return word_list[0:num]\n",
    "# Show the most similar Mercedes-Benz SLK-Class by cosine distance \n",
    "cosine_distance (model,'region',Stemmatized,5)"
   ]
  },
  {
   "cell_type": "markdown",
   "metadata": {},
   "source": [
    "# T-SNE Visualization"
   ]
  },
  {
   "cell_type": "code",
   "execution_count": 149,
   "metadata": {},
   "outputs": [
    {
     "name": "stderr",
     "output_type": "stream",
     "text": [
      "DeprecationWarning: Call to deprecated `similar_by_word` (Method will be removed in 4.0.0, use self.wv.similar_by_word() instead). [ipykernel_launcher.py:5]\n",
      "DeprecationWarning: Call to deprecated `__getitem__` (Method will be removed in 4.0.0, use self.wv.__getitem__() instead). [ipykernel_launcher.py:6]\n",
      "DeprecationWarning: Call to deprecated `__getitem__` (Method will be removed in 4.0.0, use self.wv.__getitem__() instead). [ipykernel_launcher.py:8]\n"
     ]
    },
    {
     "data": {
      "image/png": "[encoded data removed]",
      "text/plain": [
       "<Figure size 432x288 with 1 Axes>"
      ]
     },
     "metadata": {
      "needs_background": "light"
     },
     "output_type": "display_data"
    },
    {
     "data": {
      "image/png": "[encoded data removed]",
      "text/plain": [
       "<Figure size 432x288 with 1 Axes>"
      ]
     },
     "metadata": {
      "needs_background": "light"
     },
     "output_type": "display_data"
    },
    {
     "data": {
      "image/png": "[encoded data removed]",
      "text/plain": [
       "<Figure size 432x288 with 1 Axes>"
      ]
     },
     "metadata": {
      "needs_background": "light"
     },
     "output_type": "display_data"
    },
    {
     "data": {
      "image/png": "[encoded data removed]",
      "text/plain": [
       "<Figure size 432x288 with 1 Axes>"
      ]
     },
     "metadata": {
      "needs_background": "light"
     },
     "output_type": "display_data"
    },
    {
     "data": {
      "image/png": "[encoded data removed]",
      "text/plain": [
       "<Figure size 432x288 with 1 Axes>"
      ]
     },
     "metadata": {
      "needs_background": "light"
     },
     "output_type": "display_data"
    },
    {
     "data": {
      "image/png": "[encoded data removed]",
      "text/plain": [
       "<Figure size 432x288 with 1 Axes>"
      ]
     },
     "metadata": {
      "needs_background": "light"
     },
     "output_type": "display_data"
    },
    {
     "data": {
      "image/png": "[encoded data removed]",
      "text/plain": [
       "<Figure size 432x288 with 1 Axes>"
      ]
     },
     "metadata": {
      "needs_background": "light"
     },
     "output_type": "display_data"
    },
    {
     "data": {
      "image/png": "[encoded data removed]",
      "text/plain": [
       "<Figure size 432x288 with 1 Axes>"
      ]
     },
     "metadata": {
      "needs_background": "light"
     },
     "output_type": "display_data"
    },
    {
     "data": {
      "image/png": "[encoded data removed]",
      "text/plain": [
       "<Figure size 432x288 with 1 Axes>"
      ]
     },
     "metadata": {
      "needs_background": "light"
     },
     "output_type": "display_data"
    },
    {
     "data": {
      "image/png": "[encoded data removed]",
      "text/plain": [
       "<Figure size 432x288 with 1 Axes>"
      ]
     },
     "metadata": {
      "needs_background": "light"
     },
     "output_type": "display_data"
    },
    {
     "data": {
      "image/png": "[encoded data removed]",
      "text/plain": [
       "<Figure size 432x288 with 1 Axes>"
      ]
     },
     "metadata": {
      "needs_background": "light"
     },
     "output_type": "display_data"
    }
   ],
   "source": [
    "def display_closestwords_tsnescatterplot(model, word, size):\n",
    "    \n",
    "        arr = np.empty((0,size), dtype='f')\n",
    "        word_labels = [word]\n",
    "        close_words = model.similar_by_word(word)\n",
    "        arr = np.append(arr, np.array([model[word]]), axis=0)\n",
    "        for wrd_score in close_words:\n",
    "            wrd_vector = model[wrd_score[0]]\n",
    "            word_labels.append(wrd_score[0])\n",
    "            arr = np.append(arr, np.array([wrd_vector]), axis=0)\n",
    "\n",
    "        tsne = TSNE(n_components=2, random_state=0)\n",
    "        np.set_printoptions(suppress=True)\n",
    "        Y = tsne.fit_transform(arr)\n",
    "        x_coords = Y[:, 0]\n",
    "        y_coords = Y[:, 1]\n",
    "        plt.scatter(x_coords, y_coords)\n",
    "        for label, x, y in zip(word_labels, x_coords, y_coords):\n",
    "            plt.annotate(label, xy=(x, y), xytext=(0, 0), textcoords='offset points')\n",
    "            plt.xlim(x_coords.min()+0.00005, x_coords.max()+0.00005)\n",
    "            plt.ylim(y_coords.min()+0.00005, y_coords.max()+0.00005)\n",
    "            plt.show()\n",
    "display_closestwords_tsnescatterplot(model, 'prix', 50) "
   ]
  },
  {
   "cell_type": "code",
   "execution_count": null,
   "metadata": {},
   "outputs": [],
   "source": []
  },
  {
   "cell_type": "code",
   "execution_count": null,
   "metadata": {},
   "outputs": [],
   "source": []
  }
 ],
 "metadata": {
  "kernelspec": {
   "display_name": "Python 3",
   "language": "python",
   "name": "python3"
  }
 },
 "nbformat": 4,
 "nbformat_minor": 4
}
